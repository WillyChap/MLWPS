{
 "cells": [
  {
   "cell_type": "markdown",
   "id": "db7ef677-6617-4ee9-9fb0-1819babe4207",
   "metadata": {},
   "source": [
    "## Need to make three datasets: "
   ]
  },
  {
   "cell_type": "code",
   "execution_count": 2,
   "id": "c2868986-b5b5-4f61-9ec7-fad49e868501",
   "metadata": {},
   "outputs": [
    {
     "name": "stdout",
     "output_type": "stream",
     "text": [
      "bokeh version:  3.1.1\n"
     ]
    }
   ],
   "source": [
    "# Python core\n",
    "from typing import Optional, Callable, TypedDict, Union, Iterable, Tuple, NamedTuple, List\n",
    "from dataclasses import dataclass\n",
    "import datetime\n",
    "from itertools import product\n",
    "from concurrent import futures\n",
    "\n",
    "# Scientific python\n",
    "import numpy as np\n",
    "import pandas as pd\n",
    "import xarray as xr\n",
    "import matplotlib.pyplot as plt\n",
    "\n",
    "# PyTorch\n",
    "# import torch\n",
    "# from torch import nn\n",
    "# import torch.nn.functional as F\n",
    "# from torchvision import transforms\n",
    "# import pytorch_lightning as pl\n",
    "import bokeh\n",
    "print('bokeh version: ', bokeh.__version__)"
   ]
  },
  {
   "cell_type": "code",
   "execution_count": 3,
   "id": "0fed1bf4-74f3-4b00-a6ac-dac44c60b132",
   "metadata": {},
   "outputs": [
    {
     "name": "stdout",
     "output_type": "stream",
     "text": [
      "CPU times: user 3.62 s, sys: 250 ms, total: 3.87 s\n",
      "Wall time: 14.8 s\n"
     ]
    }
   ],
   "source": [
    "%%time\n",
    "ZARR = '/glade/derecho/scratch/wchapman/STAGING/All_2010_staged.zarr'\n",
    "\n",
    "plt.rcParams['figure.figsize'] = (5, 5)\n",
    "plt.rcParams['image.interpolation'] = 'none'\n",
    "\n",
    "def get_forward_data(filename: str=ZARR) -> xr.DataArray:\n",
    "    \"\"\"Lazily opens the Zarr store on gladefilesystem.\n",
    "    \"\"\"\n",
    "    dataset = xr.open_zarr(filename, consolidated=True)\n",
    "    return dataset\n",
    "\n",
    "forcing_data = get_forward_data().unify_chunks()"
   ]
  },
  {
   "cell_type": "code",
   "execution_count": 6,
   "id": "c920b696-be56-413c-9df6-42aa633e0bd4",
   "metadata": {},
   "outputs": [],
   "source": [
    "FD = forcing_data.isel(time=slice(0,5)).load()"
   ]
  },
  {
   "cell_type": "code",
   "execution_count": 9,
   "id": "89f6a29e-b36a-4f13-aef0-f4a26af7b626",
   "metadata": {},
   "outputs": [],
   "source": [
    "Mean_latlonlev=FD.mean('time')\n",
    "STD_latlonlev=FD.std('time')\n",
    "Mean_latlonlev.to_netcdf('/glade/derecho/scratch/wchapman/STAGING/All_2010_staged.mean.LatLonLev.K.nc')\n",
    "STD_latlonlev.to_netcdf('/glade/derecho/scratch/wchapman/STAGING/All_2010_staged.std.LatLonLev.K.nc')"
   ]
  },
  {
   "cell_type": "code",
   "execution_count": 11,
   "id": "8fd68a7b-807d-49df-8b72-ef8161a55532",
   "metadata": {},
   "outputs": [],
   "source": [
    "Mean_lev=FD.mean(['time','latitude','longitude'])\n",
    "STD_lev=FD.std(['time','latitude','longitude'])\n",
    "Mean_lev.to_netcdf('/glade/derecho/scratch/wchapman/STAGING/All_2010_staged.mean.Lev.K.nc')\n",
    "STD_lev.to_netcdf('/glade/derecho/scratch/wchapman/STAGING/All_2010_staged.std.Lev.K.nc')"
   ]
  },
  {
   "cell_type": "code",
   "execution_count": 13,
   "id": "394d1f9b-598b-439b-9f97-00770960dea5",
   "metadata": {},
   "outputs": [],
   "source": [
    "Mean_lev=FD.mean(['time','latitude','longitude','level'])\n",
    "STD_lev=FD.std(['time','latitude','longitude','level'])\n",
    "Mean_lev.to_netcdf('/glade/derecho/scratch/wchapman/STAGING/All_2010_staged.mean.K.nc')\n",
    "STD_lev.to_netcdf('/glade/derecho/scratch/wchapman/STAGING/All_2010_staged.std.K.nc')"
   ]
  },
  {
   "cell_type": "code",
   "execution_count": null,
   "id": "c5bb7faf-a7c7-4485-bf4f-25ad84c0a386",
   "metadata": {},
   "outputs": [],
   "source": []
  },
  {
   "cell_type": "code",
   "execution_count": null,
   "id": "72470934-2fe0-46ed-99e2-6e6e8f780753",
   "metadata": {},
   "outputs": [],
   "source": []
  },
  {
   "cell_type": "code",
   "execution_count": null,
   "id": "808161f3-4d81-4626-9bc2-7fb06ca2b5c6",
   "metadata": {},
   "outputs": [],
   "source": []
  },
  {
   "cell_type": "code",
   "execution_count": null,
   "id": "d5505b6c-5ce0-4355-8349-d1f24f368288",
   "metadata": {},
   "outputs": [],
   "source": []
  },
  {
   "cell_type": "code",
   "execution_count": null,
   "id": "15bf4111-5f57-4201-ac68-24c157c368aa",
   "metadata": {},
   "outputs": [],
   "source": []
  }
 ],
 "metadata": {
  "kernelspec": {
   "display_name": "NPL 2023b",
   "language": "python",
   "name": "npl-2023b"
  },
  "language_info": {
   "codemirror_mode": {
    "name": "ipython",
    "version": 3
   },
   "file_extension": ".py",
   "mimetype": "text/x-python",
   "name": "python",
   "nbconvert_exporter": "python",
   "pygments_lexer": "ipython3",
   "version": "3.10.12"
  }
 },
 "nbformat": 4,
 "nbformat_minor": 5
}
