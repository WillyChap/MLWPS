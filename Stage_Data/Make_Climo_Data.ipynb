{
 "cells": [
  {
   "cell_type": "code",
   "execution_count": 1,
   "id": "48596c61-a65f-41a1-8ade-ee164b77cf1c",
   "metadata": {},
   "outputs": [],
   "source": [
    "# Python core\n",
    "from typing import Optional, Callable, TypedDict, Union, Iterable, Tuple, NamedTuple, List\n",
    "from dataclasses import dataclass\n",
    "import datetime\n",
    "from itertools import product\n",
    "from concurrent import futures\n",
    "\n",
    "# Scientific python\n",
    "import numpy as np\n",
    "import pandas as pd\n",
    "import xarray as xr\n",
    "import matplotlib.pyplot as plt\n",
    "\n",
    "# PyTorch\n",
    "# import torch\n",
    "# from torch import nn\n",
    "# import torch.nn.functional as F\n",
    "# from torchvision import transforms\n",
    "# import pytorch_lightning as pl"
   ]
  },
  {
   "cell_type": "code",
   "execution_count": 2,
   "id": "ca73702d-f01d-45e7-8c85-94abd5be6411",
   "metadata": {},
   "outputs": [
    {
     "name": "stdout",
     "output_type": "stream",
     "text": [
      "bokeh version:  3.2.1\n"
     ]
    }
   ],
   "source": [
    "import bokeh\n",
    "print('bokeh version: ', bokeh.__version__)"
   ]
  },
  {
   "cell_type": "code",
   "execution_count": 13,
   "id": "557aa7a8-5c88-436a-b78a-de75c77ad31a",
   "metadata": {},
   "outputs": [
    {
     "name": "stdout",
     "output_type": "stream",
     "text": [
      "...shutdown client...\n"
     ]
    }
   ],
   "source": [
    "if 'client' in locals():\n",
    "    client.shutdown()\n",
    "    print('...shutdown client...')\n",
    "else:\n",
    "    print('client does not exist yet')"
   ]
  },
  {
   "cell_type": "code",
   "execution_count": 4,
   "id": "7dc33e99-5b36-40ed-9991-36d30e874049",
   "metadata": {},
   "outputs": [
    {
     "data": {
      "text/html": [
       "<div>\n",
       "    <div style=\"width: 24px; height: 24px; background-color: #e1e1e1; border: 3px solid #9D9D9D; border-radius: 5px; position: absolute;\"> </div>\n",
       "    <div style=\"margin-left: 48px;\">\n",
       "        <h3 style=\"margin-bottom: 0px;\">Client</h3>\n",
       "        <p style=\"color: #9D9D9D; margin-bottom: 0px;\">Client-6f3cc977-893b-11ee-9312-3cecef1acb60</p>\n",
       "        <table style=\"width: 100%; text-align: left;\">\n",
       "\n",
       "        <tr>\n",
       "        \n",
       "            <td style=\"text-align: left;\"><strong>Connection method:</strong> Cluster object</td>\n",
       "            <td style=\"text-align: left;\"><strong>Cluster type:</strong> dask_jobqueue.PBSCluster</td>\n",
       "        \n",
       "        </tr>\n",
       "\n",
       "        \n",
       "            <tr>\n",
       "                <td style=\"text-align: left;\">\n",
       "                    <strong>Dashboard: </strong> <a href=\"https://jupyterhub.hpc.ucar.edu/stable/user/wchapman/Dingo/proxy/8787/status\" target=\"_blank\">https://jupyterhub.hpc.ucar.edu/stable/user/wchapman/Dingo/proxy/8787/status</a>\n",
       "                </td>\n",
       "                <td style=\"text-align: left;\"></td>\n",
       "            </tr>\n",
       "        \n",
       "\n",
       "        </table>\n",
       "\n",
       "        \n",
       "\n",
       "        \n",
       "            <details>\n",
       "            <summary style=\"margin-bottom: 20px;\"><h3 style=\"display: inline;\">Cluster Info</h3></summary>\n",
       "            <div class=\"jp-RenderedHTMLCommon jp-RenderedHTML jp-mod-trusted jp-OutputArea-output\">\n",
       "    <div style=\"width: 24px; height: 24px; background-color: #e1e1e1; border: 3px solid #9D9D9D; border-radius: 5px; position: absolute;\">\n",
       "    </div>\n",
       "    <div style=\"margin-left: 48px;\">\n",
       "        <h3 style=\"margin-bottom: 0px; margin-top: 0px;\">PBSCluster</h3>\n",
       "        <p style=\"color: #9D9D9D; margin-bottom: 0px;\">4106020e</p>\n",
       "        <table style=\"width: 100%; text-align: left;\">\n",
       "            <tr>\n",
       "                <td style=\"text-align: left;\">\n",
       "                    <strong>Dashboard:</strong> <a href=\"https://jupyterhub.hpc.ucar.edu/stable/user/wchapman/Dingo/proxy/8787/status\" target=\"_blank\">https://jupyterhub.hpc.ucar.edu/stable/user/wchapman/Dingo/proxy/8787/status</a>\n",
       "                </td>\n",
       "                <td style=\"text-align: left;\">\n",
       "                    <strong>Workers:</strong> 0\n",
       "                </td>\n",
       "            </tr>\n",
       "            <tr>\n",
       "                <td style=\"text-align: left;\">\n",
       "                    <strong>Total threads:</strong> 0\n",
       "                </td>\n",
       "                <td style=\"text-align: left;\">\n",
       "                    <strong>Total memory:</strong> 0 B\n",
       "                </td>\n",
       "            </tr>\n",
       "            \n",
       "        </table>\n",
       "\n",
       "        <details>\n",
       "            <summary style=\"margin-bottom: 20px;\">\n",
       "                <h3 style=\"display: inline;\">Scheduler Info</h3>\n",
       "            </summary>\n",
       "\n",
       "            <div style=\"\">\n",
       "    <div>\n",
       "        <div style=\"width: 24px; height: 24px; background-color: #FFF7E5; border: 3px solid #FF6132; border-radius: 5px; position: absolute;\"> </div>\n",
       "        <div style=\"margin-left: 48px;\">\n",
       "            <h3 style=\"margin-bottom: 0px;\">Scheduler</h3>\n",
       "            <p style=\"color: #9D9D9D; margin-bottom: 0px;\">Scheduler-d2eace0e-6451-4dbb-80b8-806af2965e83</p>\n",
       "            <table style=\"width: 100%; text-align: left;\">\n",
       "                <tr>\n",
       "                    <td style=\"text-align: left;\">\n",
       "                        <strong>Comm:</strong> tcp://128.117.208.63:36725\n",
       "                    </td>\n",
       "                    <td style=\"text-align: left;\">\n",
       "                        <strong>Workers:</strong> 0\n",
       "                    </td>\n",
       "                </tr>\n",
       "                <tr>\n",
       "                    <td style=\"text-align: left;\">\n",
       "                        <strong>Dashboard:</strong> <a href=\"https://jupyterhub.hpc.ucar.edu/stable/user/wchapman/Dingo/proxy/8787/status\" target=\"_blank\">https://jupyterhub.hpc.ucar.edu/stable/user/wchapman/Dingo/proxy/8787/status</a>\n",
       "                    </td>\n",
       "                    <td style=\"text-align: left;\">\n",
       "                        <strong>Total threads:</strong> 0\n",
       "                    </td>\n",
       "                </tr>\n",
       "                <tr>\n",
       "                    <td style=\"text-align: left;\">\n",
       "                        <strong>Started:</strong> Just now\n",
       "                    </td>\n",
       "                    <td style=\"text-align: left;\">\n",
       "                        <strong>Total memory:</strong> 0 B\n",
       "                    </td>\n",
       "                </tr>\n",
       "            </table>\n",
       "        </div>\n",
       "    </div>\n",
       "\n",
       "    <details style=\"margin-left: 48px;\">\n",
       "        <summary style=\"margin-bottom: 20px;\">\n",
       "            <h3 style=\"display: inline;\">Workers</h3>\n",
       "        </summary>\n",
       "\n",
       "        \n",
       "\n",
       "    </details>\n",
       "</div>\n",
       "\n",
       "        </details>\n",
       "    </div>\n",
       "</div>\n",
       "            </details>\n",
       "        \n",
       "\n",
       "    </div>\n",
       "</div>"
      ],
      "text/plain": [
       "<Client: 'tcp://128.117.208.63:36725' processes=0 threads=0, memory=0 B>"
      ]
     },
     "execution_count": 4,
     "metadata": {},
     "output_type": "execute_result"
    }
   ],
   "source": [
    "from distributed import Client\n",
    "from dask_jobqueue import PBSCluster\n",
    "\n",
    "cluster = PBSCluster(account='NAML0001',walltime='12:00:00',cores=1, memory='100GB',shared_temp_directory='/glade/scratch/wchapman/tmp',queue='casper',interface='ext')\n",
    "cluster.scale(jobs=40)\n",
    "client = Client(cluster)\n",
    "client"
   ]
  },
  {
   "cell_type": "markdown",
   "id": "36226573-e119-40b6-b4a1-d90c81a076a7",
   "metadata": {},
   "source": [
    "## Load the Zarr file"
   ]
  },
  {
   "cell_type": "code",
   "execution_count": 6,
   "id": "6ada625d-c75c-4845-93a7-093b245336d6",
   "metadata": {},
   "outputs": [
    {
     "name": "stdout",
     "output_type": "stream",
     "text": [
      "CPU times: user 2.13 s, sys: 94.6 ms, total: 2.22 s\n",
      "Wall time: 2.31 s\n"
     ]
    }
   ],
   "source": [
    "%%time\n",
    "ZARR = '/glade/derecho/scratch/wchapman/STAGING/All_2010_staged.zarr'\n",
    "\n",
    "plt.rcParams['figure.figsize'] = (5, 5)\n",
    "plt.rcParams['image.interpolation'] = 'none'\n",
    "\n",
    "def get_forward_data(filename: str=ZARR) -> xr.DataArray:\n",
    "    \"\"\"Lazily opens the Zarr store on gladefilesystem.\n",
    "    \"\"\"\n",
    "    dataset = xr.open_zarr(filename, consolidated=True)\n",
    "    return dataset\n",
    "\n",
    "forcing_data = get_forward_data().unify_chunks()"
   ]
  },
  {
   "cell_type": "markdown",
   "id": "1a9c62e0-790a-4830-ad6b-2d6d591c3b06",
   "metadata": {},
   "source": [
    "## Take a Variety of Means/STDs and Save them\n",
    "- you need a massive amount of compute to do this; try it in the morning before every other NCAR employee wakes up "
   ]
  },
  {
   "cell_type": "code",
   "execution_count": 11,
   "id": "4b1c932a-3204-4cb3-a2f9-b631ccef73e7",
   "metadata": {},
   "outputs": [
    {
     "name": "stderr",
     "output_type": "stream",
     "text": [
      "/glade/work/wchapman/miniconda3.1/envs/MLWPS/lib/python3.11/site-packages/distributed/client.py:3125: UserWarning: Sending large graph of size 50.19 MiB.\n",
      "This may cause some slowdown.\n",
      "Consider scattering data ahead of time and using futures.\n",
      "  warnings.warn(\n"
     ]
    },
    {
     "name": "stdout",
     "output_type": "stream",
     "text": [
      "...moving on to load...\n"
     ]
    },
    {
     "name": "stderr",
     "output_type": "stream",
     "text": [
      "BokehUserWarning: ColumnDataSource's columns must be of the same length. Current lengths: ('alpha', 502), ('color', 498), ('duration', 502), ('duration_text', 498), ('key', 498), ('name', 498), ('start', 502), ('worker', 498), ('worker_thread', 498), ('y', 502)\n",
      "BokehUserWarning: ColumnDataSource's columns must be of the same length. Current lengths: ('alpha', 514), ('color', 490), ('duration', 514), ('duration_text', 490), ('key', 490), ('name', 490), ('start', 514), ('worker', 490), ('worker_thread', 490), ('y', 514)\n",
      "BokehUserWarning: ColumnDataSource's columns must be of the same length. Current lengths: ('alpha', 532), ('color', 492), ('duration', 532), ('duration_text', 492), ('key', 492), ('name', 492), ('start', 532), ('worker', 492), ('worker_thread', 492), ('y', 532)\n",
      "BokehUserWarning: ColumnDataSource's columns must be of the same length. Current lengths: ('alpha', 538), ('color', 498), ('duration', 538), ('duration_text', 498), ('key', 498), ('name', 498), ('start', 538), ('worker', 498), ('worker_thread', 498), ('y', 538)\n",
      "BokehUserWarning: ColumnDataSource's columns must be of the same length. Current lengths: ('alpha', 554), ('color', 486), ('duration', 554), ('duration_text', 486), ('key', 486), ('name', 486), ('start', 554), ('worker', 486), ('worker_thread', 486), ('y', 554)\n",
      "BokehUserWarning: ColumnDataSource's columns must be of the same length. Current lengths: ('alpha', 570), ('color', 498), ('duration', 570), ('duration_text', 498), ('key', 498), ('name', 498), ('start', 570), ('worker', 498), ('worker_thread', 498), ('y', 570)\n",
      "BokehUserWarning: ColumnDataSource's columns must be of the same length. Current lengths: ('alpha', 583), ('color', 489), ('duration', 583), ('duration_text', 489), ('key', 489), ('name', 489), ('start', 583), ('worker', 489), ('worker_thread', 489), ('y', 583)\n",
      "BokehUserWarning: ColumnDataSource's columns must be of the same length. Current lengths: ('alpha', 589), ('color', 495), ('duration', 589), ('duration_text', 495), ('key', 495), ('name', 495), ('start', 589), ('worker', 495), ('worker_thread', 495), ('y', 589)\n",
      "BokehUserWarning: ColumnDataSource's columns must be of the same length. Current lengths: ('alpha', 608), ('color', 486), ('duration', 608), ('duration_text', 486), ('key', 486), ('name', 486), ('start', 608), ('worker', 486), ('worker_thread', 486), ('y', 608)\n",
      "BokehUserWarning: ColumnDataSource's columns must be of the same length. Current lengths: ('alpha', 620), ('color', 498), ('duration', 620), ('duration_text', 498), ('key', 498), ('name', 498), ('start', 620), ('worker', 498), ('worker_thread', 498), ('y', 620)\n",
      "BokehUserWarning: ColumnDataSource's columns must be of the same length. Current lengths: ('alpha', 632), ('color', 490), ('duration', 632), ('duration_text', 490), ('key', 490), ('name', 490), ('start', 632), ('worker', 490), ('worker_thread', 490), ('y', 632)\n",
      "BokehUserWarning: ColumnDataSource's columns must be of the same length. Current lengths: ('alpha', 640), ('color', 498), ('duration', 640), ('duration_text', 498), ('key', 498), ('name', 498), ('start', 640), ('worker', 498), ('worker_thread', 498), ('y', 640)\n",
      "BokehUserWarning: ColumnDataSource's columns must be of the same length. Current lengths: ('alpha', 655), ('color', 487), ('duration', 655), ('duration_text', 487), ('key', 487), ('name', 487), ('start', 655), ('worker', 487), ('worker_thread', 487), ('y', 655)\n",
      "BokehUserWarning: ColumnDataSource's columns must be of the same length. Current lengths: ('alpha', 667), ('color', 499), ('duration', 667), ('duration_text', 499), ('key', 499), ('name', 499), ('start', 667), ('worker', 499), ('worker_thread', 499), ('y', 667)\n",
      "BokehUserWarning: ColumnDataSource's columns must be of the same length. Current lengths: ('alpha', 683), ('color', 485), ('duration', 683), ('duration_text', 485), ('key', 485), ('name', 485), ('start', 683), ('worker', 485), ('worker_thread', 485), ('y', 683)\n",
      "BokehUserWarning: ColumnDataSource's columns must be of the same length. Current lengths: ('alpha', 695), ('color', 497), ('duration', 695), ('duration_text', 497), ('key', 497), ('name', 497), ('start', 695), ('worker', 497), ('worker_thread', 497), ('y', 695)\n",
      "BokehUserWarning: ColumnDataSource's columns must be of the same length. Current lengths: ('alpha', 708), ('color', 490), ('duration', 708), ('duration_text', 490), ('key', 490), ('name', 490), ('start', 708), ('worker', 490), ('worker_thread', 490), ('y', 708)\n",
      "BokehUserWarning: ColumnDataSource's columns must be of the same length. Current lengths: ('alpha', 724), ('color', 494), ('duration', 724), ('duration_text', 494), ('key', 494), ('name', 494), ('start', 724), ('worker', 494), ('worker_thread', 494), ('y', 724)\n",
      "BokehUserWarning: ColumnDataSource's columns must be of the same length. Current lengths: ('alpha', 739), ('color', 491), ('duration', 739), ('duration_text', 491), ('key', 491), ('name', 491), ('start', 739), ('worker', 491), ('worker_thread', 491), ('y', 739)\n",
      "BokehUserWarning: ColumnDataSource's columns must be of the same length. Current lengths: ('alpha', 762), ('color', 486), ('duration', 762), ('duration_text', 486), ('key', 486), ('name', 486), ('start', 762), ('worker', 486), ('worker_thread', 486), ('y', 762)\n",
      "BokehUserWarning: ColumnDataSource's columns must be of the same length. Current lengths: ('alpha', 777), ('color', 499), ('duration', 777), ('duration_text', 499), ('key', 499), ('name', 499), ('start', 777), ('worker', 499), ('worker_thread', 499), ('y', 777)\n",
      "BokehUserWarning: ColumnDataSource's columns must be of the same length. Current lengths: ('alpha', 802), ('color', 476), ('duration', 802), ('duration_text', 476), ('key', 476), ('name', 476), ('start', 802), ('worker', 476), ('worker_thread', 476), ('y', 802)\n",
      "BokehUserWarning: ColumnDataSource's columns must be of the same length. Current lengths: ('alpha', 815), ('color', 489), ('duration', 815), ('duration_text', 489), ('key', 489), ('name', 489), ('start', 815), ('worker', 489), ('worker_thread', 489), ('y', 815)\n",
      "BokehUserWarning: ColumnDataSource's columns must be of the same length. Current lengths: ('alpha', 828), ('color', 498), ('duration', 828), ('duration_text', 498), ('key', 498), ('name', 498), ('start', 828), ('worker', 498), ('worker_thread', 498), ('y', 828)\n"
     ]
    },
    {
     "name": "stdout",
     "output_type": "stream",
     "text": [
      "...mean done...\n",
      "...saving...\n",
      "CPU times: user 10min 54s, sys: 20.4 s, total: 11min 14s\n",
      "Wall time: 29min 39s\n"
     ]
    }
   ],
   "source": [
    "%%time\n",
    "Mean_latlonlev = forcing_data.mean(['time','latitude','longitude','level']).persist()\n",
    "print('...moving on to load...')\n",
    "Mean_latlonlev = Mean_latlonlev.load()\n",
    "print('...mean done...')\n",
    "print('...saving...')\n",
    "Mean_latlonlev.to_netcdf('/glade/derecho/scratch/wchapman/STAGING/All_2010_staged.mean.nc')\n"
   ]
  },
  {
   "cell_type": "code",
   "execution_count": 12,
   "id": "4d869c3d-1f3e-4ea0-b0c8-337616df5e55",
   "metadata": {},
   "outputs": [
    {
     "name": "stderr",
     "output_type": "stream",
     "text": [
      "/glade/work/wchapman/miniconda3.1/envs/MLWPS/lib/python3.11/site-packages/distributed/client.py:3125: UserWarning: Sending large graph of size 50.54 MiB.\n",
      "This may cause some slowdown.\n",
      "Consider scattering data ahead of time and using futures.\n",
      "  warnings.warn(\n"
     ]
    },
    {
     "name": "stdout",
     "output_type": "stream",
     "text": [
      "...moving on to load...\n"
     ]
    },
    {
     "name": "stderr",
     "output_type": "stream",
     "text": [
      "BokehUserWarning: ColumnDataSource's columns must be of the same length. Current lengths: ('alpha', 850), ('color', 150), ('duration', 850), ('duration_text', 150), ('key', 150), ('name', 150), ('start', 850), ('worker', 150), ('worker_thread', 150), ('y', 850)\n"
     ]
    },
    {
     "name": "stdout",
     "output_type": "stream",
     "text": [
      "...saving...\n"
     ]
    }
   ],
   "source": [
    "STD_latlonlev = forcing_data.std(['time','latitude','longitude','level']).persist()\n",
    "# print('...moving on to load...')\n",
    "STD_latlonlev = STD_latlonlev.load()\n",
    "print('...saving...')\n",
    "STD_latlonlev.to_netcdf('/glade/derecho/scratch/wchapman/STAGING/All_2010_staged.std.nc')"
   ]
  },
  {
   "cell_type": "code",
   "execution_count": null,
   "id": "33ec6b7a-ac81-4df3-b393-d8cf791ca76e",
   "metadata": {},
   "outputs": [],
   "source": []
  }
 ],
 "metadata": {
  "kernelspec": {
   "display_name": "Python (MLWPS)",
   "language": "python",
   "name": "mlwps"
  },
  "language_info": {
   "codemirror_mode": {
    "name": "ipython",
    "version": 3
   },
   "file_extension": ".py",
   "mimetype": "text/x-python",
   "name": "python",
   "nbconvert_exporter": "python",
   "pygments_lexer": "ipython3",
   "version": "3.11.6"
  }
 },
 "nbformat": 4,
 "nbformat_minor": 5
}
